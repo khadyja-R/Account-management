{
  "cells": [
    {
      "cell_type": "markdown",
      "metadata": {
        "id": "view-in-github",
        "colab_type": "text"
      },
      "source": [
        "<a href=\"https://colab.research.google.com/github/khadyja-R/Account-management/blob/main/Welcome_To_Colab.ipynb\" target=\"_parent\"><img src=\"https://colab.research.google.com/assets/colab-badge.svg\" alt=\"Open In Colab\"/></a>"
      ]
    },
    {
      "cell_type": "code",
      "source": [
        "import numpy as np"
      ],
      "metadata": {
        "id": "9jSmm72fCe26"
      },
      "execution_count": 1,
      "outputs": []
    },
    {
      "cell_type": "code",
      "source": [
        "# 1. Jeu de données (porte AND)\n",
        "X = np.array([[0, 0],\n",
        "              [0, 1],\n",
        "              [1, 0],\n",
        "              [1, 1]])\n",
        "\n",
        "y = np.array([0, 0, 0, 1])  # sortie attendue"
      ],
      "metadata": {
        "id": "CRdunopwCtNf"
      },
      "execution_count": 4,
      "outputs": []
    },
    {
      "cell_type": "code",
      "source": [
        "# 2. Initialisation des poids et du biais\n",
        "np.random.seed(0)\n",
        "weights = np.random.rand(2)\n",
        "bias = np.random.rand(1)\n",
        "learning_rate = 0.1"
      ],
      "metadata": {
        "id": "bExYcDZ0CvHn"
      },
      "execution_count": 5,
      "outputs": []
    },
    {
      "cell_type": "code",
      "source": [
        "# 3. Définir la fonction d'activation (step)\n",
        "def step_function(z):\n",
        "    return 1 if z >= 0.5 else 0\n"
      ],
      "metadata": {
        "id": "nR1hhBZDDHt0"
      },
      "execution_count": 6,
      "outputs": []
    },
    {
      "cell_type": "code",
      "source": [
        "# 4. Entraînement du perceptron\n",
        "for epoch in range(20):\n",
        "    total_error = 0\n",
        "    for i in range(len(X)):\n",
        "        z = np.dot(X[i], weights) + bias\n",
        "        y_pred = step_function(z)\n",
        "     #retropagation\n",
        "        # Calcul de l'erreur\n",
        "        error = y[i] - y_pred\n",
        "        total_error += abs(error)\n",
        "\n",
        "        # Mise à jour des poids et biais\n",
        "        weights += learning_rate * error * X[i]\n",
        "        bias += learning_rate * error\n",
        "\n",
        "    print(f\"Epoch {epoch+1} - Error: {total_error}\")"
      ],
      "metadata": {
        "id": "cMtJnN1UDXxP",
        "outputId": "a73fe825-0419-4208-f42a-831d55fe993b",
        "colab": {
          "base_uri": "https://localhost:8080/"
        }
      },
      "execution_count": 7,
      "outputs": [
        {
          "output_type": "stream",
          "name": "stdout",
          "text": [
            "Epoch 1 - Error: 3\n",
            "Epoch 2 - Error: 2\n",
            "Epoch 3 - Error: 1\n",
            "Epoch 4 - Error: 0\n",
            "Epoch 5 - Error: 0\n",
            "Epoch 6 - Error: 0\n",
            "Epoch 7 - Error: 0\n",
            "Epoch 8 - Error: 0\n",
            "Epoch 9 - Error: 0\n",
            "Epoch 10 - Error: 0\n",
            "Epoch 11 - Error: 0\n",
            "Epoch 12 - Error: 0\n",
            "Epoch 13 - Error: 0\n",
            "Epoch 14 - Error: 0\n",
            "Epoch 15 - Error: 0\n",
            "Epoch 16 - Error: 0\n",
            "Epoch 17 - Error: 0\n",
            "Epoch 18 - Error: 0\n",
            "Epoch 19 - Error: 0\n",
            "Epoch 20 - Error: 0\n"
          ]
        }
      ]
    },
    {
      "cell_type": "code",
      "source": [
        "# 5. Test final\n",
        "print(\"\\nPoids finaux:\", weights)\n",
        "print(\"Biais final:\", bias)\n",
        "\n",
        "for i in range(len(X)):\n",
        "    z = np.dot(X[i], weights) + bias\n",
        "    print(f\"Entrée: {X[i]} → Sortie prédite: {step_function(z)}\")\n"
      ],
      "metadata": {
        "id": "8EtJGKDiDb-P",
        "outputId": "474ec4c2-b0b4-4228-b8db-936248497660",
        "colab": {
          "base_uri": "https://localhost:8080/"
        }
      },
      "execution_count": 8,
      "outputs": [
        {
          "output_type": "stream",
          "name": "stdout",
          "text": [
            "\n",
            "Poids finaux: [0.3488135  0.41518937]\n",
            "Biais final: [0.00276338]\n",
            "Entrée: [0 0] → Sortie prédite: 0\n",
            "Entrée: [0 1] → Sortie prédite: 0\n",
            "Entrée: [1 0] → Sortie prédite: 0\n",
            "Entrée: [1 1] → Sortie prédite: 1\n"
          ]
        }
      ]
    }
  ],
  "metadata": {
    "colab": {
      "name": "Welcome To Colab",
      "toc_visible": true,
      "provenance": [],
      "include_colab_link": true
    },
    "kernelspec": {
      "display_name": "Python 3",
      "name": "python3"
    }
  },
  "nbformat": 4,
  "nbformat_minor": 0
}